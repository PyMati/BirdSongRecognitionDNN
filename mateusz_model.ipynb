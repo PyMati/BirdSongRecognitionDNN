{
 "cells": [
  {
   "cell_type": "code",
   "execution_count": 1,
   "metadata": {},
   "outputs": [],
   "source": [
    "import torch\n",
    "from torch import nn\n",
    "from torch.utils.data import Dataset\n",
    "from torch.optim import Adam\n",
    "from tqdm import tqdm"
   ]
  },
  {
   "cell_type": "code",
   "execution_count": 2,
   "metadata": {},
   "outputs": [],
   "source": [
    "DEVICE = \"cuda\" if torch.cuda.is_available() else \"cpu\"\n",
    "BATCH_SIZE = 32\n",
    "EPOCHS = 100"
   ]
  },
  {
   "cell_type": "code",
   "execution_count": 3,
   "metadata": {},
   "outputs": [],
   "source": [
    "# batch size x channels x time x bands\n",
    "valid_part = torch.rand((32, 1, 128, 64))"
   ]
  },
  {
   "cell_type": "code",
   "execution_count": 4,
   "metadata": {},
   "outputs": [],
   "source": [
    "class HeadBlock(nn.Module):\n",
    "    def __init__(self, input_features: int, output_classes: int):\n",
    "        super().__init__()\n",
    "\n",
    "        self.layers = nn.ModuleList(\n",
    "            [\n",
    "                nn.Flatten(),\n",
    "                nn.Linear(input_features, output_classes),\n",
    "                nn.Dropout2d(p=0.5),\n",
    "            ]\n",
    "        )\n",
    "\n",
    "    def forward(self, x):\n",
    "        out = x\n",
    "        for layer in self.layers:\n",
    "            out = layer(out)\n",
    "        return out"
   ]
  },
  {
   "cell_type": "code",
   "execution_count": 5,
   "metadata": {},
   "outputs": [
    {
     "name": "stderr",
     "output_type": "stream",
     "text": [
      "d:\\Conda\\envs\\dl\\Lib\\site-packages\\torch\\nn\\functional.py:1538: UserWarning: dropout2d: Received a 2-D input to dropout2d, which is deprecated and will result in an error in a future release. To retain the behavior and silence this warning, please use dropout instead. Note that dropout2d exists to provide channel-wise dropout on inputs with 2 spatial dimensions, a channel dimension, and an optional batch dimension (i.e. 3D or 4D inputs).\n",
      "  warnings.warn(warn_msg)\n"
     ]
    },
    {
     "data": {
      "text/plain": [
       "torch.Size([32, 5])"
      ]
     },
     "execution_count": 5,
     "metadata": {},
     "output_type": "execute_result"
    }
   ],
   "source": [
    "block_test = HeadBlock(8192, 5)\n",
    "block_test(valid_part).shape"
   ]
  },
  {
   "cell_type": "code",
   "execution_count": 6,
   "metadata": {},
   "outputs": [],
   "source": [
    "class FeatureExtractionBlock(nn.Module):\n",
    "    def __init__(\n",
    "        self,\n",
    "        input_channels: int,\n",
    "        output_channels: int,\n",
    "        conv_kernel_size: int = 3,\n",
    "        conv_stride: int = 2,\n",
    "        conv_padding: int = 1,\n",
    "        pooling_kernel_size: int = 2,\n",
    "    ):\n",
    "        super().__init__()\n",
    "\n",
    "        self.layers = nn.ModuleList(\n",
    "            [\n",
    "                nn.Conv2d(\n",
    "                    input_channels,\n",
    "                    output_channels,\n",
    "                    kernel_size=conv_kernel_size,\n",
    "                    stride=conv_stride,\n",
    "                    padding=conv_padding,\n",
    "                ),\n",
    "                nn.LeakyReLU(negative_slope=0.01),\n",
    "                nn.MaxPool2d(kernel_size=pooling_kernel_size),\n",
    "                nn.BatchNorm2d(output_channels),\n",
    "                nn.Dropout2d(p=0.2),\n",
    "            ]\n",
    "        )\n",
    "\n",
    "    def forward(self, x):\n",
    "        out = x\n",
    "        for layer in self.layers:\n",
    "            out = layer(out)\n",
    "        return out"
   ]
  },
  {
   "cell_type": "code",
   "execution_count": 7,
   "metadata": {},
   "outputs": [
    {
     "data": {
      "text/plain": [
       "torch.Size([32, 32, 32, 16])"
      ]
     },
     "execution_count": 7,
     "metadata": {},
     "output_type": "execute_result"
    }
   ],
   "source": [
    "extraction_test = FeatureExtractionBlock(1, 32)\n",
    "extraction_test(valid_part).shape"
   ]
  },
  {
   "cell_type": "code",
   "execution_count": null,
   "metadata": {},
   "outputs": [],
   "source": [
    "class BirdClassifier(nn.Module):\n",
    "    def __init__(\n",
    "        self,\n",
    "        output_classes: int,\n",
    "        input_channels: int,\n",
    "        validation_tensor: torch.Tensor,\n",
    "    ):\n",
    "        super().__init__()\n",
    "        # Entry extractor\n",
    "        self.entry_extractor_output_channels = 32\n",
    "        self.entry_extractor = FeatureExtractionBlock(\n",
    "            input_channels, self.entry_extractor_output_channels\n",
    "        )\n",
    "        self.second_extractor = FeatureExtractionBlock(self.entry_extractor_output_channels, 64)\n",
    "        self.third_extractor = FeatureExtractionBlock(64, 128)\n",
    "\n",
    "        output = self.entry_extractor(validation_tensor)\n",
    "        output = self.second_extractor(output)\n",
    "        output = self.third_extractor(output)\n",
    "        \n",
    "        head_input_features = (\n",
    "            output.shape[1]\n",
    "            * output.shape[2]\n",
    "            * output.shape[3]\n",
    "        )\n",
    "        self.head = HeadBlock(head_input_features, output_classes)\n",
    "\n",
    "    def forward(self, x):\n",
    "        out = x\n",
    "        out = self.entry_extractor(x)\n",
    "        out = self.second_extractor(out)\n",
    "        out = self.third_extractor(out)\n",
    "        return self.head(out)"
   ]
  },
  {
   "cell_type": "code",
   "execution_count": 9,
   "metadata": {},
   "outputs": [],
   "source": [
    "class BirdClassifierManager:\n",
    "    def __init__(\n",
    "        self,\n",
    "        output_classes: int,\n",
    "        input_channels: int,\n",
    "        validation_tensor: torch.Tensor,\n",
    "        load_model: bool = False,\n",
    "        model_path=\"./bird_classifier.pth\",\n",
    "        device: str = DEVICE,\n",
    "    ):\n",
    "        self.model_path = model_path\n",
    "        self.device = device\n",
    "        if load_model:\n",
    "            self.load_model()\n",
    "        else:\n",
    "            self.model = BirdClassifier(\n",
    "                output_classes, input_channels, validation_tensor\n",
    "            ).to(self.device)\n",
    "\n",
    "        self.validation_tensor = validation_tensor\n",
    "\n",
    "    def validate(self):\n",
    "        try:\n",
    "            self.model(self.validation_tensor)\n",
    "            print(\"OK!\")\n",
    "        except Exception as e:\n",
    "            print(f\"Validation failed: {e}\")\n",
    "\n",
    "    def predict(self, sample: torch.Tensor):\n",
    "        sample = sample.to(self.device)\n",
    "        with torch.no_grad():\n",
    "            return self.model(sample)\n",
    "\n",
    "    def save_model(self):\n",
    "        torch.save(self.model, self.model_path)\n",
    "\n",
    "    def load_model(self):\n",
    "        self.model.load_state_dict(torch.load(self.model_path))\n",
    "        self.model.to(self.device)\n",
    "\n",
    "    def train(\n",
    "        self, train: Dataset, valid: Dataset, epochs: int = EPOCHS, lr: float = 0.0001\n",
    "    ):\n",
    "        criterion = nn.CrossEntropyLoss()\n",
    "        optimizer = Adam(self.model.parameters(), lr=lr)\n",
    "\n",
    "        for epoch in range(epochs):\n",
    "            self.model.train()\n",
    "            train_loss = 0.0\n",
    "            correct_train = 0\n",
    "            total_train = 0\n",
    "\n",
    "            for inputs, labels in tqdm(train):\n",
    "                inputs, labels = inputs.to(self.device), labels.to(self.device)\n",
    "\n",
    "                optimizer.zero_grad()\n",
    "                outputs = self.model(inputs)\n",
    "                loss = criterion(outputs, labels)\n",
    "                loss.backward()\n",
    "                optimizer.step()\n",
    "\n",
    "                train_loss += loss.item() * inputs.size(0)\n",
    "                _, predicted = outputs.max(1)\n",
    "                correct_train += predicted.eq(labels).sum().item()\n",
    "                total_train += labels.size(0)\n",
    "\n",
    "            train_loss /= len(train)\n",
    "            train_accuracy = 100 * correct_train / total_train\n",
    "\n",
    "            if epoch % 5 == 0:\n",
    "                self.save_model()\n",
    "\n",
    "            self.model.eval()\n",
    "            valid_loss = 0.0\n",
    "            correct_valid = 0\n",
    "            total_valid = 0\n",
    "\n",
    "            with torch.no_grad():\n",
    "                for inputs, labels in valid:\n",
    "                    inputs, labels = inputs.to(self.device), labels.to(self.device)\n",
    "                    outputs = self.model(inputs)\n",
    "                    loss = criterion(outputs, labels)\n",
    "\n",
    "                    valid_loss += loss.item() * inputs.size(0)\n",
    "                    _, predicted = outputs.max(1)\n",
    "                    correct_valid += predicted.eq(labels).sum().item()\n",
    "                    total_valid += labels.size(0)\n",
    "\n",
    "            valid_loss /= len(valid)\n",
    "            valid_accuracy = 100 * correct_valid / total_valid\n",
    "\n",
    "            print(\n",
    "                f\"Epoch [{epoch+1}/{epochs}] \"\n",
    "                f\"Train Loss: {train_loss:.4f}, Train Acc: {train_accuracy:.2f}% \"\n",
    "                f\"Valid Loss: {valid_loss:.4f}, Valid Acc: {valid_accuracy:.2f}%\"\n",
    "            )\n",
    "\n",
    "    def test(self, test: Dataset):\n",
    "        self.model.eval()\n",
    "        correct_test = 0\n",
    "        total_test = 0\n",
    "\n",
    "        with torch.no_grad():\n",
    "            for inputs, labels in test:\n",
    "                inputs, labels = inputs.to(self.device), labels.to(self.device)\n",
    "                outputs = self.model(inputs)\n",
    "                _, predicted = outputs.max(1)\n",
    "                correct_test += predicted.eq(labels).sum().item()\n",
    "                total_test += labels.size(0)\n",
    "\n",
    "        test_accuracy = 100 * correct_test / total_test\n",
    "        print(f\"Test Accuracy: {test_accuracy:.2f}%\")"
   ]
  },
  {
   "cell_type": "code",
   "execution_count": 10,
   "metadata": {},
   "outputs": [],
   "source": [
    "import os\n",
    "import torchaudio\n",
    "import numpy as np\n",
    "import pandas as pd\n",
    "from pathlib import Path\n",
    "from torch.utils.data import Dataset, DataLoader\n",
    "import matplotlib.pyplot as plt"
   ]
  },
  {
   "cell_type": "code",
   "execution_count": 11,
   "metadata": {},
   "outputs": [],
   "source": [
    "class BirdSongDataset(Dataset):\n",
    "    def __init__(\n",
    "        self,\n",
    "        x: pd.DataFrame,\n",
    "        y: pd.DataFrame,\n",
    "        sample_rate: int,\n",
    "        num_samples: int,\n",
    "        as_mel_spectogram: bool = True,\n",
    "    ):\n",
    "        super().__init__()\n",
    "        self.x = x\n",
    "        self.y = y\n",
    "        self.target_sample_rate = sample_rate\n",
    "        self.target_number_of_samples = num_samples\n",
    "        self.as_mel_spectogram = as_mel_spectogram\n",
    "        self.mel_spectrogram_transform = torchaudio.transforms.MelSpectrogram(\n",
    "            sample_rate=self.target_sample_rate, n_fft=1024, hop_length=512, n_mels=96\n",
    "        )\n",
    "\n",
    "    def _resample_if_necessary(self, waveform: torch.Tensor, sample_rate: int):\n",
    "        if sample_rate != self.target_sample_rate:\n",
    "            resample_transform = torchaudio.transforms.Resample(\n",
    "                orig_freq=sample_rate, new_freq=self.target_sample_rate\n",
    "            )\n",
    "            waveform = resample_transform(waveform)\n",
    "        return waveform\n",
    "\n",
    "    def _pad_or_trim(self, waveform: torch.Tensor):\n",
    "        if waveform.shape[1] > self.target_number_of_samples:\n",
    "            waveform = waveform[:, : self.target_number_of_samples]\n",
    "        elif waveform.shape[1] < self.target_number_of_samples:\n",
    "            padding = self.target_number_of_samples - waveform.shape[1]\n",
    "            waveform = torch.nn.functional.pad(waveform, (0, padding))\n",
    "        return waveform\n",
    "\n",
    "    def __len__(self):\n",
    "        return len(self.x)\n",
    "\n",
    "    def __getitem__(self, index):\n",
    "        path, class_ = self.x[index], self.y[index]\n",
    "\n",
    "        waveform, sample_rate = torchaudio.load(str(path))\n",
    "        waveform = self._resample_if_necessary(waveform, sample_rate)\n",
    "        waveform = self._pad_or_trim(waveform)\n",
    "\n",
    "        if self.as_mel_spectogram:\n",
    "            waveform = self.mel_spectrogram_transform(waveform)\n",
    "\n",
    "        return waveform, class_"
   ]
  },
  {
   "cell_type": "code",
   "execution_count": 12,
   "metadata": {},
   "outputs": [],
   "source": [
    "import torchaudio\n",
    "import os\n",
    "import pandas as pd\n",
    "from torch.utils.data import DataLoader\n",
    "from pathlib import Path\n",
    "\n",
    "\n",
    "class BirdSongDatasetManager:\n",
    "    def __init__(\n",
    "        self,\n",
    "        csv_file_path: Path,\n",
    "        audio_files_main_folder: Path,\n",
    "        train: float = 0.9,\n",
    "        valid: float = 0.05,\n",
    "        test: float = 0.05,\n",
    "        batch_size: int = 32,\n",
    "        shuffle: bool = True,\n",
    "        csv_file_name: str = \"train_mod.csv\",\n",
    "        minimum_files_num=100,\n",
    "        min_duration_seconds=40,\n",
    "        sample_rate: int = 32000,\n",
    "        num_samples: int = 960_000,\n",
    "    ):\n",
    "        if not np.isclose((train + valid + test), 1):\n",
    "            raise Exception(\"Sum of dataset partitions must be equal to 1\")\n",
    "\n",
    "        self.csv_file_path = csv_file_path\n",
    "        self.audio_files_main_folder = audio_files_main_folder\n",
    "        self.train = train\n",
    "        self.valid = valid\n",
    "        self.test = test\n",
    "        self.batch_size = batch_size\n",
    "        self.shuffle = shuffle\n",
    "        self.csv_file_name = csv_file_name\n",
    "        self.number_of_classes = 0\n",
    "        self.minimum_files_num = minimum_files_num\n",
    "        self.min_duration_seconds = min_duration_seconds\n",
    "\n",
    "        self.index_to_class, self.class_to_index = dict(), dict()\n",
    "\n",
    "        self.dataframe, self.species_to_name = self._filter_data(\n",
    "            self.csv_file_path, self.audio_files_main_folder\n",
    "        )\n",
    "        self.species_in_dataset = self.dataframe[\"ebird_code\"].unique()\n",
    "\n",
    "        self.mapped_dataframe = self._map_bird_to_path()\n",
    "\n",
    "        self.dataset_loaders_args = dict(\n",
    "            sample_rate=sample_rate, num_samples=num_samples\n",
    "        )\n",
    "\n",
    "    def _filter_data(\n",
    "        self, csv_file_path: Path, audio_files_main_folder: Path\n",
    "    ) -> pd.DataFrame:\n",
    "        dataframe = pd.read_csv(csv_file_path)\n",
    "\n",
    "        current_dataset_species = os.listdir(audio_files_main_folder)\n",
    "        current_dataset_species.remove(self.csv_file_name)\n",
    "\n",
    "        ebird_code_to_name = dict()\n",
    "        class_ = 0\n",
    "        for species in current_dataset_species:\n",
    "            species_path = audio_files_main_folder / species\n",
    "            if len(os.listdir(species_path)) >= self.minimum_files_num:\n",
    "                name = dataframe[dataframe[\"ebird_code\"] == species].iloc[0][\"species\"]\n",
    "\n",
    "                self.class_to_index[name] = class_\n",
    "                self.index_to_class[class_] = name\n",
    "                ebird_code_to_name[species] = name\n",
    "\n",
    "                class_ += 1\n",
    "\n",
    "        self.number_of_classes = class_\n",
    "\n",
    "        # Filter dataframe by valid species only\n",
    "        valid_species = dataframe[\n",
    "            dataframe[\"ebird_code\"].isin(ebird_code_to_name.keys())\n",
    "        ]\n",
    "\n",
    "        return valid_species, ebird_code_to_name\n",
    "\n",
    "    def _map_bird_to_path(self) -> pd.DataFrame:\n",
    "        data = []\n",
    "        for species in self.species_in_dataset:\n",
    "            prefix = self.audio_files_main_folder / species\n",
    "            audio_files = os.listdir(prefix)\n",
    "            for file in audio_files:\n",
    "                file_path = prefix / file\n",
    "\n",
    "                class_code = self.species_to_name[species]\n",
    "                data.append(\n",
    "                    {\n",
    "                        \"class\": self.class_to_index[class_code],\n",
    "                        \"file_path\": file_path,\n",
    "                        \"class_name\": class_code,\n",
    "                        \"ebird_code\": species,\n",
    "                    }\n",
    "                )\n",
    "\n",
    "                # Only include files that are at least the minimum duration\n",
    "                # if duration_seconds >= self.min_duration_seconds:\n",
    "\n",
    "        return pd.DataFrame(data)\n",
    "\n",
    "    def get_datasets(self, with_valid: bool = True):\n",
    "        train_data = []\n",
    "        valid_data = []\n",
    "        test_data = []\n",
    "\n",
    "        # Filter only species with valid files based on the duration\n",
    "        valid_species = self.mapped_dataframe.groupby(\"ebird_code\").filter(\n",
    "            lambda group: len(group) >= self.minimum_files_num\n",
    "        )\n",
    "        print(\n",
    "            f\"Number of species with at least {self.minimum_files_num} files: {len(valid_species['ebird_code'].unique())}\"\n",
    "        )\n",
    "\n",
    "        min_group_size = min(valid_species.groupby(\"ebird_code\").size())\n",
    "        print(\n",
    "            f\"Minimum group size (after filtering species with fewer than {self.minimum_files_num} files): {min_group_size}\"\n",
    "        )\n",
    "\n",
    "        for _, group in valid_species.groupby(\"ebird_code\"):\n",
    "            # Sample to ensure equal group size across all species\n",
    "            group = group.sample(n=min_group_size, random_state=42).reset_index(\n",
    "                drop=True\n",
    "            )\n",
    "            n = len(group)\n",
    "            train_end = int(self.train * n)\n",
    "            valid_end = train_end + int(self.valid * n) if with_valid else train_end\n",
    "\n",
    "            train_data.append(group.iloc[:train_end])\n",
    "            if with_valid:\n",
    "                valid_data.append(group.iloc[train_end:valid_end])\n",
    "                test_data.append(group.iloc[valid_end:])\n",
    "            else:\n",
    "                test_data.append(group.iloc[train_end:])\n",
    "\n",
    "        # Concatenate the data into DataFrames\n",
    "        train_df = pd.concat(train_data).reset_index(drop=True)\n",
    "        valid_df = pd.concat(valid_data).reset_index(drop=True) if with_valid else None\n",
    "        test_df = pd.concat(test_data).reset_index(drop=True)\n",
    "\n",
    "        # Create DataLoaders\n",
    "        train = DataLoader(\n",
    "            BirdSongDataset(\n",
    "                train_df[\"file_path\"], train_df[\"class\"], **self.dataset_loaders_args\n",
    "            ),\n",
    "            batch_size=self.batch_size,\n",
    "            shuffle=self.shuffle,\n",
    "        )\n",
    "\n",
    "        valid = (\n",
    "            DataLoader(\n",
    "                BirdSongDataset(\n",
    "                    valid_df[\"file_path\"],\n",
    "                    valid_df[\"class\"],\n",
    "                    **self.dataset_loaders_args,\n",
    "                )\n",
    "            )\n",
    "            if with_valid\n",
    "            else None\n",
    "        )\n",
    "\n",
    "        test = DataLoader(\n",
    "            BirdSongDataset(\n",
    "                test_df[\"file_path\"], test_df[\"class\"], **self.dataset_loaders_args\n",
    "            )\n",
    "        )\n",
    "\n",
    "        return train, valid, test"
   ]
  },
  {
   "cell_type": "code",
   "execution_count": 13,
   "metadata": {},
   "outputs": [],
   "source": [
    "dataset_manager = BirdSongDatasetManager(Path(\"data/train_mod.csv\"), Path(\"data\"))"
   ]
  },
  {
   "cell_type": "code",
   "execution_count": 14,
   "metadata": {},
   "outputs": [
    {
     "data": {
      "text/plain": [
       "{'Cactus Wren': 0,\n",
       " 'Canada Goose': 1,\n",
       " 'Canada Warbler': 2,\n",
       " 'Canyon Wren': 3,\n",
       " 'Carolina Wren': 4,\n",
       " 'Caspian Tern': 5,\n",
       " 'Chipping Sparrow': 6,\n",
       " 'Chestnut-sided Warbler': 7,\n",
       " 'Common Grackle': 8,\n",
       " 'Northern Raven': 9,\n",
       " 'Common Redpoll': 10,\n",
       " 'Common Tern': 11,\n",
       " 'Common Yellowthroat': 12,\n",
       " 'Dark-eyed Junco': 13,\n",
       " 'Downy Woodpecker': 14,\n",
       " 'Eastern Meadowlark': 15,\n",
       " 'Eastern Towhee': 16,\n",
       " 'Eastern Wood Pewee': 17,\n",
       " 'Eurasian Collared Dove': 18,\n",
       " 'Evening Grosbeak': 19,\n",
       " 'Field Sparrow': 20,\n",
       " 'Red Fox Sparrow': 21}"
      ]
     },
     "execution_count": 14,
     "metadata": {},
     "output_type": "execute_result"
    }
   ],
   "source": [
    "dataset_manager.class_to_index"
   ]
  },
  {
   "cell_type": "code",
   "execution_count": 15,
   "metadata": {},
   "outputs": [
    {
     "name": "stdout",
     "output_type": "stream",
     "text": [
      "Number of species with at least 100 files: 22\n",
      "Minimum group size (after filtering species with fewer than 100 files): 100\n"
     ]
    }
   ],
   "source": [
    "train_part, valid_part, test_part = dataset_manager.get_datasets()"
   ]
  },
  {
   "cell_type": "code",
   "execution_count": 16,
   "metadata": {},
   "outputs": [
    {
     "data": {
      "text/plain": [
       "(torch.Size([32, 1, 96, 1876]),\n",
       " tensor([ 3, 21, 11,  4,  9, 16, 16,  7,  6,  6,  9,  5, 14, 12, 13,  0,  9,  4,\n",
       "          3, 17, 12,  3,  3,  3, 20, 16, 21,  7, 20,  9,  0, 18]))"
      ]
     },
     "execution_count": 16,
     "metadata": {},
     "output_type": "execute_result"
    }
   ],
   "source": [
    "x = next(iter(train_part))\n",
    "x[0].shape, x[1]"
   ]
  },
  {
   "cell_type": "code",
   "execution_count": 17,
   "metadata": {},
   "outputs": [
    {
     "data": {
      "image/png": "[encoded data removed]",
      "text/plain": [
       "<Figure size 1000x400 with 2 Axes>"
      ]
     },
     "metadata": {},
     "output_type": "display_data"
    }
   ],
   "source": [
    "plt.figure(figsize=(10, 4))\n",
    "plt.imshow(x[0][5].log2()[0, :, :].numpy(), aspect='auto', origin='lower', cmap='viridis')\n",
    "plt.colorbar(format=\"%+2.0f dB\")\n",
    "plt.title(\"Mel Spectrogram\")\n",
    "plt.xlabel(\"Time Frames\")\n",
    "plt.ylabel(\"Mel Frequency Channels\")\n",
    "plt.show()"
   ]
  },
  {
   "cell_type": "code",
   "execution_count": 18,
   "metadata": {},
   "outputs": [
    {
     "name": "stdout",
     "output_type": "stream",
     "text": [
      "Validation failed: Input type (torch.FloatTensor) and weight type (torch.cuda.FloatTensor) should be the same or input should be a MKLDNN tensor and weight is a dense tensor\n"
     ]
    },
    {
     "name": "stderr",
     "output_type": "stream",
     "text": [
      "d:\\Conda\\envs\\dl\\Lib\\site-packages\\torch\\nn\\functional.py:1538: UserWarning: dropout2d: Received a 2-D input to dropout2d, which is deprecated and will result in an error in a future release. To retain the behavior and silence this warning, please use dropout instead. Note that dropout2d exists to provide channel-wise dropout on inputs with 2 spatial dimensions, a channel dimension, and an optional batch dimension (i.e. 3D or 4D inputs).\n",
      "  warnings.warn(warn_msg)\n"
     ]
    },
    {
     "data": {
      "text/plain": [
       "torch.Size([32, 22])"
      ]
     },
     "execution_count": 18,
     "metadata": {},
     "output_type": "execute_result"
    }
   ],
   "source": [
    "valid = x[0]\n",
    "model_manager = BirdClassifierManager(dataset_manager.number_of_classes, 1, valid)\n",
    "model_manager.validate()\n",
    "model_manager.predict(valid).shape"
   ]
  },
  {
   "cell_type": "code",
   "execution_count": 19,
   "metadata": {},
   "outputs": [
    {
     "name": "stderr",
     "output_type": "stream",
     "text": [
      "  0%|          | 0/62 [00:00<?, ?it/s]d:\\Conda\\envs\\dl\\Lib\\site-packages\\torch\\nn\\functional.py:1538: UserWarning: dropout2d: Received a 2-D input to dropout2d, which is deprecated and will result in an error in a future release. To retain the behavior and silence this warning, please use dropout instead. Note that dropout2d exists to provide channel-wise dropout on inputs with 2 spatial dimensions, a channel dimension, and an optional batch dimension (i.e. 3D or 4D inputs).\n",
      "  warnings.warn(warn_msg)\n",
      "100%|██████████| 62/62 [01:05<00:00,  1.06s/it]\n"
     ]
    },
    {
     "name": "stdout",
     "output_type": "stream",
     "text": [
      "Epoch [1/100] Train Loss: 107.8833, Train Acc: 5.71% Valid Loss: 3.1057, Valid Acc: 11.82%\n"
     ]
    },
    {
     "name": "stderr",
     "output_type": "stream",
     "text": [
      "100%|██████████| 62/62 [02:44<00:00,  2.65s/it]\n"
     ]
    },
    {
     "name": "stdout",
     "output_type": "stream",
     "text": [
      "Epoch [2/100] Train Loss: 101.7786, Train Acc: 8.59% Valid Loss: 3.0625, Valid Acc: 16.36%\n"
     ]
    },
    {
     "name": "stderr",
     "output_type": "stream",
     "text": [
      "100%|██████████| 62/62 [01:06<00:00,  1.08s/it]\n"
     ]
    },
    {
     "name": "stdout",
     "output_type": "stream",
     "text": [
      "Epoch [3/100] Train Loss: 98.9014, Train Acc: 11.26% Valid Loss: 3.0317, Valid Acc: 14.55%\n"
     ]
    },
    {
     "name": "stderr",
     "output_type": "stream",
     "text": [
      "100%|██████████| 62/62 [01:07<00:00,  1.08s/it]\n"
     ]
    },
    {
     "name": "stdout",
     "output_type": "stream",
     "text": [
      "Epoch [4/100] Train Loss: 97.7521, Train Acc: 11.06% Valid Loss: 2.9858, Valid Acc: 19.09%\n"
     ]
    },
    {
     "name": "stderr",
     "output_type": "stream",
     "text": [
      "100%|██████████| 62/62 [01:08<00:00,  1.11s/it]\n"
     ]
    },
    {
     "name": "stdout",
     "output_type": "stream",
     "text": [
      "Epoch [5/100] Train Loss: 96.1008, Train Acc: 12.37% Valid Loss: 2.9671, Valid Acc: 15.45%\n"
     ]
    },
    {
     "name": "stderr",
     "output_type": "stream",
     "text": [
      "100%|██████████| 62/62 [01:07<00:00,  1.08s/it]\n"
     ]
    },
    {
     "name": "stdout",
     "output_type": "stream",
     "text": [
      "Epoch [6/100] Train Loss: 94.3591, Train Acc: 13.48% Valid Loss: 2.9643, Valid Acc: 19.09%\n"
     ]
    },
    {
     "name": "stderr",
     "output_type": "stream",
     "text": [
      "100%|██████████| 62/62 [01:06<00:00,  1.07s/it]\n"
     ]
    },
    {
     "name": "stdout",
     "output_type": "stream",
     "text": [
      "Epoch [7/100] Train Loss: 93.5118, Train Acc: 14.44% Valid Loss: 2.9261, Valid Acc: 19.09%\n"
     ]
    },
    {
     "name": "stderr",
     "output_type": "stream",
     "text": [
      "100%|██████████| 62/62 [01:07<00:00,  1.09s/it]\n"
     ]
    },
    {
     "name": "stdout",
     "output_type": "stream",
     "text": [
      "Epoch [8/100] Train Loss: 92.1635, Train Acc: 15.81% Valid Loss: 2.8864, Valid Acc: 20.00%\n"
     ]
    },
    {
     "name": "stderr",
     "output_type": "stream",
     "text": [
      "100%|██████████| 62/62 [01:08<00:00,  1.11s/it]\n"
     ]
    },
    {
     "name": "stdout",
     "output_type": "stream",
     "text": [
      "Epoch [9/100] Train Loss: 92.2454, Train Acc: 15.45% Valid Loss: 2.9420, Valid Acc: 19.09%\n"
     ]
    },
    {
     "name": "stderr",
     "output_type": "stream",
     "text": [
      "100%|██████████| 62/62 [01:08<00:00,  1.10s/it]\n"
     ]
    },
    {
     "name": "stdout",
     "output_type": "stream",
     "text": [
      "Epoch [10/100] Train Loss: 90.5468, Train Acc: 16.72% Valid Loss: 2.9022, Valid Acc: 20.00%\n"
     ]
    },
    {
     "name": "stderr",
     "output_type": "stream",
     "text": [
      "100%|██████████| 62/62 [01:08<00:00,  1.11s/it]\n"
     ]
    },
    {
     "name": "stdout",
     "output_type": "stream",
     "text": [
      "Epoch [11/100] Train Loss: 89.7752, Train Acc: 18.99% Valid Loss: 2.8440, Valid Acc: 20.00%\n"
     ]
    },
    {
     "name": "stderr",
     "output_type": "stream",
     "text": [
      "100%|██████████| 62/62 [01:09<00:00,  1.12s/it]\n"
     ]
    },
    {
     "name": "stdout",
     "output_type": "stream",
     "text": [
      "Epoch [12/100] Train Loss: 90.0063, Train Acc: 18.59% Valid Loss: 2.8591, Valid Acc: 20.91%\n"
     ]
    },
    {
     "name": "stderr",
     "output_type": "stream",
     "text": [
      "100%|██████████| 62/62 [01:10<00:00,  1.14s/it]\n"
     ]
    },
    {
     "name": "stdout",
     "output_type": "stream",
     "text": [
      "Epoch [13/100] Train Loss: 88.0742, Train Acc: 19.34% Valid Loss: 2.8212, Valid Acc: 26.36%\n"
     ]
    },
    {
     "name": "stderr",
     "output_type": "stream",
     "text": [
      "100%|██████████| 62/62 [01:09<00:00,  1.12s/it]\n"
     ]
    },
    {
     "name": "stdout",
     "output_type": "stream",
     "text": [
      "Epoch [14/100] Train Loss: 88.9219, Train Acc: 20.00% Valid Loss: 2.8463, Valid Acc: 26.36%\n"
     ]
    },
    {
     "name": "stderr",
     "output_type": "stream",
     "text": [
      "100%|██████████| 62/62 [01:08<00:00,  1.11s/it]\n"
     ]
    },
    {
     "name": "stdout",
     "output_type": "stream",
     "text": [
      "Epoch [15/100] Train Loss: 86.8759, Train Acc: 21.82% Valid Loss: 2.8111, Valid Acc: 27.27%\n"
     ]
    },
    {
     "name": "stderr",
     "output_type": "stream",
     "text": [
      "100%|██████████| 62/62 [01:06<00:00,  1.08s/it]\n"
     ]
    },
    {
     "name": "stdout",
     "output_type": "stream",
     "text": [
      "Epoch [16/100] Train Loss: 86.7137, Train Acc: 21.82% Valid Loss: 2.8119, Valid Acc: 22.73%\n"
     ]
    },
    {
     "name": "stderr",
     "output_type": "stream",
     "text": [
      "100%|██████████| 62/62 [01:06<00:00,  1.07s/it]\n"
     ]
    },
    {
     "name": "stdout",
     "output_type": "stream",
     "text": [
      "Epoch [17/100] Train Loss: 86.1291, Train Acc: 21.52% Valid Loss: 2.7746, Valid Acc: 27.27%\n"
     ]
    },
    {
     "name": "stderr",
     "output_type": "stream",
     "text": [
      "100%|██████████| 62/62 [01:09<00:00,  1.12s/it]\n"
     ]
    },
    {
     "name": "stdout",
     "output_type": "stream",
     "text": [
      "Epoch [18/100] Train Loss: 84.4632, Train Acc: 23.38% Valid Loss: 2.7913, Valid Acc: 20.91%\n"
     ]
    },
    {
     "name": "stderr",
     "output_type": "stream",
     "text": [
      "100%|██████████| 62/62 [01:11<00:00,  1.15s/it]\n"
     ]
    },
    {
     "name": "stdout",
     "output_type": "stream",
     "text": [
      "Epoch [19/100] Train Loss: 85.7635, Train Acc: 22.68% Valid Loss: 2.7622, Valid Acc: 27.27%\n"
     ]
    },
    {
     "name": "stderr",
     "output_type": "stream",
     "text": [
      "100%|██████████| 62/62 [01:24<00:00,  1.36s/it]\n"
     ]
    },
    {
     "name": "stdout",
     "output_type": "stream",
     "text": [
      "Epoch [20/100] Train Loss: 84.4495, Train Acc: 23.99% Valid Loss: 2.7985, Valid Acc: 25.45%\n"
     ]
    },
    {
     "name": "stderr",
     "output_type": "stream",
     "text": [
      "100%|██████████| 62/62 [01:13<00:00,  1.18s/it]\n"
     ]
    },
    {
     "name": "stdout",
     "output_type": "stream",
     "text": [
      "Epoch [21/100] Train Loss: 84.4093, Train Acc: 23.89% Valid Loss: 2.7640, Valid Acc: 30.00%\n"
     ]
    },
    {
     "name": "stderr",
     "output_type": "stream",
     "text": [
      "100%|██████████| 62/62 [01:04<00:00,  1.04s/it]\n"
     ]
    },
    {
     "name": "stdout",
     "output_type": "stream",
     "text": [
      "Epoch [22/100] Train Loss: 84.5761, Train Acc: 23.99% Valid Loss: 2.8008, Valid Acc: 28.18%\n"
     ]
    },
    {
     "name": "stderr",
     "output_type": "stream",
     "text": [
      "100%|██████████| 62/62 [01:05<00:00,  1.05s/it]\n"
     ]
    },
    {
     "name": "stdout",
     "output_type": "stream",
     "text": [
      "Epoch [23/100] Train Loss: 84.3862, Train Acc: 23.79% Valid Loss: 2.7540, Valid Acc: 29.09%\n"
     ]
    },
    {
     "name": "stderr",
     "output_type": "stream",
     "text": [
      "100%|██████████| 62/62 [01:02<00:00,  1.01s/it]\n"
     ]
    },
    {
     "name": "stdout",
     "output_type": "stream",
     "text": [
      "Epoch [24/100] Train Loss: 82.1804, Train Acc: 26.26% Valid Loss: 2.7518, Valid Acc: 25.45%\n"
     ]
    },
    {
     "name": "stderr",
     "output_type": "stream",
     "text": [
      "100%|██████████| 62/62 [01:12<00:00,  1.17s/it]\n"
     ]
    },
    {
     "name": "stdout",
     "output_type": "stream",
     "text": [
      "Epoch [25/100] Train Loss: 81.7565, Train Acc: 27.07% Valid Loss: 2.7477, Valid Acc: 26.36%\n"
     ]
    },
    {
     "name": "stderr",
     "output_type": "stream",
     "text": [
      "100%|██████████| 62/62 [01:01<00:00,  1.01it/s]\n"
     ]
    },
    {
     "name": "stdout",
     "output_type": "stream",
     "text": [
      "Epoch [26/100] Train Loss: 82.6985, Train Acc: 24.80% Valid Loss: 2.7446, Valid Acc: 25.45%\n"
     ]
    },
    {
     "name": "stderr",
     "output_type": "stream",
     "text": [
      "100%|██████████| 62/62 [01:02<00:00,  1.01s/it]\n"
     ]
    },
    {
     "name": "stdout",
     "output_type": "stream",
     "text": [
      "Epoch [27/100] Train Loss: 83.0331, Train Acc: 25.00% Valid Loss: 2.7372, Valid Acc: 30.00%\n"
     ]
    },
    {
     "name": "stderr",
     "output_type": "stream",
     "text": [
      "100%|██████████| 62/62 [00:55<00:00,  1.11it/s]\n"
     ]
    },
    {
     "name": "stdout",
     "output_type": "stream",
     "text": [
      "Epoch [28/100] Train Loss: 80.9871, Train Acc: 26.97% Valid Loss: 2.7614, Valid Acc: 30.00%\n"
     ]
    },
    {
     "name": "stderr",
     "output_type": "stream",
     "text": [
      "100%|██████████| 62/62 [00:57<00:00,  1.08it/s]\n"
     ]
    },
    {
     "name": "stdout",
     "output_type": "stream",
     "text": [
      "Epoch [29/100] Train Loss: 80.7772, Train Acc: 27.22% Valid Loss: 2.7660, Valid Acc: 28.18%\n"
     ]
    },
    {
     "name": "stderr",
     "output_type": "stream",
     "text": [
      "100%|██████████| 62/62 [00:58<00:00,  1.06it/s]\n"
     ]
    },
    {
     "name": "stdout",
     "output_type": "stream",
     "text": [
      "Epoch [30/100] Train Loss: 80.0568, Train Acc: 27.53% Valid Loss: 2.7781, Valid Acc: 25.45%\n"
     ]
    },
    {
     "name": "stderr",
     "output_type": "stream",
     "text": [
      "100%|██████████| 62/62 [00:54<00:00,  1.14it/s]\n"
     ]
    },
    {
     "name": "stdout",
     "output_type": "stream",
     "text": [
      "Epoch [31/100] Train Loss: 80.1779, Train Acc: 27.53% Valid Loss: 2.7808, Valid Acc: 25.45%\n"
     ]
    },
    {
     "name": "stderr",
     "output_type": "stream",
     "text": [
      "100%|██████████| 62/62 [01:03<00:00,  1.02s/it]\n"
     ]
    },
    {
     "name": "stdout",
     "output_type": "stream",
     "text": [
      "Epoch [32/100] Train Loss: 80.3794, Train Acc: 28.23% Valid Loss: 2.7475, Valid Acc: 27.27%\n"
     ]
    },
    {
     "name": "stderr",
     "output_type": "stream",
     "text": [
      "100%|██████████| 62/62 [00:58<00:00,  1.07it/s]\n"
     ]
    },
    {
     "name": "stdout",
     "output_type": "stream",
     "text": [
      "Epoch [33/100] Train Loss: 79.0309, Train Acc: 29.60% Valid Loss: 2.7246, Valid Acc: 25.45%\n"
     ]
    },
    {
     "name": "stderr",
     "output_type": "stream",
     "text": [
      "100%|██████████| 62/62 [00:59<00:00,  1.03it/s]\n"
     ]
    },
    {
     "name": "stdout",
     "output_type": "stream",
     "text": [
      "Epoch [34/100] Train Loss: 79.0635, Train Acc: 28.59% Valid Loss: 2.7194, Valid Acc: 26.36%\n"
     ]
    },
    {
     "name": "stderr",
     "output_type": "stream",
     "text": [
      "100%|██████████| 62/62 [01:01<00:00,  1.00it/s]\n"
     ]
    },
    {
     "name": "stdout",
     "output_type": "stream",
     "text": [
      "Epoch [35/100] Train Loss: 77.9951, Train Acc: 29.39% Valid Loss: 2.7111, Valid Acc: 24.55%\n"
     ]
    },
    {
     "name": "stderr",
     "output_type": "stream",
     "text": [
      "100%|██████████| 62/62 [01:06<00:00,  1.07s/it]\n"
     ]
    },
    {
     "name": "stdout",
     "output_type": "stream",
     "text": [
      "Epoch [36/100] Train Loss: 77.7154, Train Acc: 29.65% Valid Loss: 2.7165, Valid Acc: 25.45%\n"
     ]
    },
    {
     "name": "stderr",
     "output_type": "stream",
     "text": [
      "100%|██████████| 62/62 [01:07<00:00,  1.08s/it]\n"
     ]
    },
    {
     "name": "stdout",
     "output_type": "stream",
     "text": [
      "Epoch [37/100] Train Loss: 78.7673, Train Acc: 29.24% Valid Loss: 2.7127, Valid Acc: 28.18%\n"
     ]
    },
    {
     "name": "stderr",
     "output_type": "stream",
     "text": [
      "100%|██████████| 62/62 [01:02<00:00,  1.01s/it]\n"
     ]
    },
    {
     "name": "stdout",
     "output_type": "stream",
     "text": [
      "Epoch [38/100] Train Loss: 78.1318, Train Acc: 28.64% Valid Loss: 2.6825, Valid Acc: 27.27%\n"
     ]
    },
    {
     "name": "stderr",
     "output_type": "stream",
     "text": [
      "100%|██████████| 62/62 [01:00<00:00,  1.02it/s]\n"
     ]
    },
    {
     "name": "stdout",
     "output_type": "stream",
     "text": [
      "Epoch [39/100] Train Loss: 77.6333, Train Acc: 29.90% Valid Loss: 2.6632, Valid Acc: 25.45%\n"
     ]
    },
    {
     "name": "stderr",
     "output_type": "stream",
     "text": [
      "100%|██████████| 62/62 [01:00<00:00,  1.02it/s]\n"
     ]
    },
    {
     "name": "stdout",
     "output_type": "stream",
     "text": [
      "Epoch [40/100] Train Loss: 76.4934, Train Acc: 30.86% Valid Loss: 2.6692, Valid Acc: 26.36%\n"
     ]
    },
    {
     "name": "stderr",
     "output_type": "stream",
     "text": [
      "100%|██████████| 62/62 [01:01<00:00,  1.01it/s]\n"
     ]
    },
    {
     "name": "stdout",
     "output_type": "stream",
     "text": [
      "Epoch [41/100] Train Loss: 76.5655, Train Acc: 30.76% Valid Loss: 2.6833, Valid Acc: 25.45%\n"
     ]
    },
    {
     "name": "stderr",
     "output_type": "stream",
     "text": [
      "100%|██████████| 62/62 [01:06<00:00,  1.07s/it]\n"
     ]
    },
    {
     "name": "stdout",
     "output_type": "stream",
     "text": [
      "Epoch [42/100] Train Loss: 75.9589, Train Acc: 31.31% Valid Loss: 2.6769, Valid Acc: 29.09%\n"
     ]
    },
    {
     "name": "stderr",
     "output_type": "stream",
     "text": [
      "100%|██████████| 62/62 [01:01<00:00,  1.01it/s]\n"
     ]
    },
    {
     "name": "stdout",
     "output_type": "stream",
     "text": [
      "Epoch [43/100] Train Loss: 75.7683, Train Acc: 31.11% Valid Loss: 2.6708, Valid Acc: 27.27%\n"
     ]
    },
    {
     "name": "stderr",
     "output_type": "stream",
     "text": [
      "100%|██████████| 62/62 [01:01<00:00,  1.00it/s]\n"
     ]
    },
    {
     "name": "stdout",
     "output_type": "stream",
     "text": [
      "Epoch [44/100] Train Loss: 76.2550, Train Acc: 30.76% Valid Loss: 2.6616, Valid Acc: 25.45%\n"
     ]
    },
    {
     "name": "stderr",
     "output_type": "stream",
     "text": [
      "100%|██████████| 62/62 [01:03<00:00,  1.02s/it]\n"
     ]
    },
    {
     "name": "stdout",
     "output_type": "stream",
     "text": [
      "Epoch [45/100] Train Loss: 75.1091, Train Acc: 32.58% Valid Loss: 2.6406, Valid Acc: 26.36%\n"
     ]
    },
    {
     "name": "stderr",
     "output_type": "stream",
     "text": [
      "100%|██████████| 62/62 [01:00<00:00,  1.02it/s]\n"
     ]
    },
    {
     "name": "stdout",
     "output_type": "stream",
     "text": [
      "Epoch [46/100] Train Loss: 75.4882, Train Acc: 31.41% Valid Loss: 2.6450, Valid Acc: 28.18%\n"
     ]
    },
    {
     "name": "stderr",
     "output_type": "stream",
     "text": [
      "100%|██████████| 62/62 [01:02<00:00,  1.00s/it]\n"
     ]
    },
    {
     "name": "stdout",
     "output_type": "stream",
     "text": [
      "Epoch [47/100] Train Loss: 74.0969, Train Acc: 32.73% Valid Loss: 2.6450, Valid Acc: 28.18%\n"
     ]
    },
    {
     "name": "stderr",
     "output_type": "stream",
     "text": [
      "100%|██████████| 62/62 [00:59<00:00,  1.04it/s]\n"
     ]
    },
    {
     "name": "stdout",
     "output_type": "stream",
     "text": [
      "Epoch [48/100] Train Loss: 72.9320, Train Acc: 33.13% Valid Loss: 2.6342, Valid Acc: 23.64%\n"
     ]
    },
    {
     "name": "stderr",
     "output_type": "stream",
     "text": [
      "100%|██████████| 62/62 [00:58<00:00,  1.07it/s]\n"
     ]
    },
    {
     "name": "stdout",
     "output_type": "stream",
     "text": [
      "Epoch [49/100] Train Loss: 73.1217, Train Acc: 32.32% Valid Loss: 2.6001, Valid Acc: 29.09%\n"
     ]
    },
    {
     "name": "stderr",
     "output_type": "stream",
     "text": [
      "100%|██████████| 62/62 [01:01<00:00,  1.01it/s]\n"
     ]
    },
    {
     "name": "stdout",
     "output_type": "stream",
     "text": [
      "Epoch [50/100] Train Loss: 72.5243, Train Acc: 34.60% Valid Loss: 2.5979, Valid Acc: 29.09%\n"
     ]
    },
    {
     "name": "stderr",
     "output_type": "stream",
     "text": [
      "100%|██████████| 62/62 [00:57<00:00,  1.08it/s]\n"
     ]
    },
    {
     "name": "stdout",
     "output_type": "stream",
     "text": [
      "Epoch [51/100] Train Loss: 73.9791, Train Acc: 32.73% Valid Loss: 2.6109, Valid Acc: 30.00%\n"
     ]
    },
    {
     "name": "stderr",
     "output_type": "stream",
     "text": [
      "100%|██████████| 62/62 [01:00<00:00,  1.02it/s]\n"
     ]
    },
    {
     "name": "stdout",
     "output_type": "stream",
     "text": [
      "Epoch [52/100] Train Loss: 72.0657, Train Acc: 35.35% Valid Loss: 2.5793, Valid Acc: 30.91%\n"
     ]
    },
    {
     "name": "stderr",
     "output_type": "stream",
     "text": [
      "100%|██████████| 62/62 [01:05<00:00,  1.06s/it]\n"
     ]
    },
    {
     "name": "stdout",
     "output_type": "stream",
     "text": [
      "Epoch [53/100] Train Loss: 73.6077, Train Acc: 32.98% Valid Loss: 2.5878, Valid Acc: 28.18%\n"
     ]
    },
    {
     "name": "stderr",
     "output_type": "stream",
     "text": [
      "100%|██████████| 62/62 [01:05<00:00,  1.05s/it]\n"
     ]
    },
    {
     "name": "stdout",
     "output_type": "stream",
     "text": [
      "Epoch [54/100] Train Loss: 72.6970, Train Acc: 32.73% Valid Loss: 2.5638, Valid Acc: 28.18%\n"
     ]
    },
    {
     "name": "stderr",
     "output_type": "stream",
     "text": [
      "100%|██████████| 62/62 [01:05<00:00,  1.06s/it]\n"
     ]
    },
    {
     "name": "stdout",
     "output_type": "stream",
     "text": [
      "Epoch [55/100] Train Loss: 71.4431, Train Acc: 35.51% Valid Loss: 2.5551, Valid Acc: 29.09%\n"
     ]
    },
    {
     "name": "stderr",
     "output_type": "stream",
     "text": [
      "100%|██████████| 62/62 [01:04<00:00,  1.04s/it]\n"
     ]
    },
    {
     "name": "stdout",
     "output_type": "stream",
     "text": [
      "Epoch [56/100] Train Loss: 72.1055, Train Acc: 34.24% Valid Loss: 2.5661, Valid Acc: 30.00%\n"
     ]
    },
    {
     "name": "stderr",
     "output_type": "stream",
     "text": [
      "100%|██████████| 62/62 [01:05<00:00,  1.05s/it]\n"
     ]
    },
    {
     "name": "stdout",
     "output_type": "stream",
     "text": [
      "Epoch [57/100] Train Loss: 71.4647, Train Acc: 34.70% Valid Loss: 2.5492, Valid Acc: 29.09%\n"
     ]
    },
    {
     "name": "stderr",
     "output_type": "stream",
     "text": [
      "100%|██████████| 62/62 [01:08<00:00,  1.10s/it]\n"
     ]
    },
    {
     "name": "stdout",
     "output_type": "stream",
     "text": [
      "Epoch [58/100] Train Loss: 71.0266, Train Acc: 35.71% Valid Loss: 2.5399, Valid Acc: 27.27%\n"
     ]
    },
    {
     "name": "stderr",
     "output_type": "stream",
     "text": [
      "100%|██████████| 62/62 [01:09<00:00,  1.12s/it]\n"
     ]
    },
    {
     "name": "stdout",
     "output_type": "stream",
     "text": [
      "Epoch [59/100] Train Loss: 71.1972, Train Acc: 34.85% Valid Loss: 2.5459, Valid Acc: 31.82%\n"
     ]
    },
    {
     "name": "stderr",
     "output_type": "stream",
     "text": [
      "100%|██████████| 62/62 [01:05<00:00,  1.06s/it]\n"
     ]
    },
    {
     "name": "stdout",
     "output_type": "stream",
     "text": [
      "Epoch [60/100] Train Loss: 70.7703, Train Acc: 34.85% Valid Loss: 2.5691, Valid Acc: 29.09%\n"
     ]
    },
    {
     "name": "stderr",
     "output_type": "stream",
     "text": [
      "100%|██████████| 62/62 [01:01<00:00,  1.01it/s]\n"
     ]
    },
    {
     "name": "stdout",
     "output_type": "stream",
     "text": [
      "Epoch [61/100] Train Loss: 69.9699, Train Acc: 35.10% Valid Loss: 2.5129, Valid Acc: 30.00%\n"
     ]
    },
    {
     "name": "stderr",
     "output_type": "stream",
     "text": [
      "100%|██████████| 62/62 [01:02<00:00,  1.00s/it]\n"
     ]
    },
    {
     "name": "stdout",
     "output_type": "stream",
     "text": [
      "Epoch [62/100] Train Loss: 69.9312, Train Acc: 35.40% Valid Loss: 2.5468, Valid Acc: 29.09%\n"
     ]
    },
    {
     "name": "stderr",
     "output_type": "stream",
     "text": [
      "100%|██████████| 62/62 [01:03<00:00,  1.03s/it]\n"
     ]
    },
    {
     "name": "stdout",
     "output_type": "stream",
     "text": [
      "Epoch [63/100] Train Loss: 69.7817, Train Acc: 35.56% Valid Loss: 2.5067, Valid Acc: 30.91%\n"
     ]
    },
    {
     "name": "stderr",
     "output_type": "stream",
     "text": [
      "100%|██████████| 62/62 [01:03<00:00,  1.02s/it]\n"
     ]
    },
    {
     "name": "stdout",
     "output_type": "stream",
     "text": [
      "Epoch [64/100] Train Loss: 69.8574, Train Acc: 35.86% Valid Loss: 2.4973, Valid Acc: 28.18%\n"
     ]
    },
    {
     "name": "stderr",
     "output_type": "stream",
     "text": [
      "100%|██████████| 62/62 [01:01<00:00,  1.01it/s]\n"
     ]
    },
    {
     "name": "stdout",
     "output_type": "stream",
     "text": [
      "Epoch [65/100] Train Loss: 69.5899, Train Acc: 36.06% Valid Loss: 2.5157, Valid Acc: 28.18%\n"
     ]
    },
    {
     "name": "stderr",
     "output_type": "stream",
     "text": [
      "100%|██████████| 62/62 [01:03<00:00,  1.02s/it]\n"
     ]
    },
    {
     "name": "stdout",
     "output_type": "stream",
     "text": [
      "Epoch [66/100] Train Loss: 68.3407, Train Acc: 36.72% Valid Loss: 2.4848, Valid Acc: 29.09%\n"
     ]
    },
    {
     "name": "stderr",
     "output_type": "stream",
     "text": [
      "100%|██████████| 62/62 [01:06<00:00,  1.07s/it]\n"
     ]
    },
    {
     "name": "stdout",
     "output_type": "stream",
     "text": [
      "Epoch [67/100] Train Loss: 68.3494, Train Acc: 37.53% Valid Loss: 2.4920, Valid Acc: 26.36%\n"
     ]
    },
    {
     "name": "stderr",
     "output_type": "stream",
     "text": [
      "100%|██████████| 62/62 [01:05<00:00,  1.06s/it]\n"
     ]
    },
    {
     "name": "stdout",
     "output_type": "stream",
     "text": [
      "Epoch [68/100] Train Loss: 69.6171, Train Acc: 35.45% Valid Loss: 2.5205, Valid Acc: 27.27%\n"
     ]
    },
    {
     "name": "stderr",
     "output_type": "stream",
     "text": [
      "100%|██████████| 62/62 [01:04<00:00,  1.04s/it]\n"
     ]
    },
    {
     "name": "stdout",
     "output_type": "stream",
     "text": [
      "Epoch [69/100] Train Loss: 67.8566, Train Acc: 36.01% Valid Loss: 2.4771, Valid Acc: 28.18%\n"
     ]
    },
    {
     "name": "stderr",
     "output_type": "stream",
     "text": [
      "100%|██████████| 62/62 [01:05<00:00,  1.06s/it]\n"
     ]
    },
    {
     "name": "stdout",
     "output_type": "stream",
     "text": [
      "Epoch [70/100] Train Loss: 68.6560, Train Acc: 36.01% Valid Loss: 2.4799, Valid Acc: 30.00%\n"
     ]
    },
    {
     "name": "stderr",
     "output_type": "stream",
     "text": [
      "100%|██████████| 62/62 [01:08<00:00,  1.11s/it]\n"
     ]
    },
    {
     "name": "stdout",
     "output_type": "stream",
     "text": [
      "Epoch [71/100] Train Loss: 67.4726, Train Acc: 37.68% Valid Loss: 2.4680, Valid Acc: 30.00%\n"
     ]
    },
    {
     "name": "stderr",
     "output_type": "stream",
     "text": [
      "100%|██████████| 62/62 [01:09<00:00,  1.13s/it]\n"
     ]
    },
    {
     "name": "stdout",
     "output_type": "stream",
     "text": [
      "Epoch [72/100] Train Loss: 67.4437, Train Acc: 37.17% Valid Loss: 2.4713, Valid Acc: 33.64%\n"
     ]
    },
    {
     "name": "stderr",
     "output_type": "stream",
     "text": [
      "100%|██████████| 62/62 [01:15<00:00,  1.21s/it]\n"
     ]
    },
    {
     "name": "stdout",
     "output_type": "stream",
     "text": [
      "Epoch [73/100] Train Loss: 68.4171, Train Acc: 36.57% Valid Loss: 2.4894, Valid Acc: 31.82%\n"
     ]
    },
    {
     "name": "stderr",
     "output_type": "stream",
     "text": [
      "100%|██████████| 62/62 [01:17<00:00,  1.25s/it]\n"
     ]
    },
    {
     "name": "stdout",
     "output_type": "stream",
     "text": [
      "Epoch [74/100] Train Loss: 67.8996, Train Acc: 36.62% Valid Loss: 2.4958, Valid Acc: 29.09%\n"
     ]
    },
    {
     "name": "stderr",
     "output_type": "stream",
     "text": [
      "100%|██████████| 62/62 [01:08<00:00,  1.11s/it]\n"
     ]
    },
    {
     "name": "stdout",
     "output_type": "stream",
     "text": [
      "Epoch [75/100] Train Loss: 68.2065, Train Acc: 35.76% Valid Loss: 2.4665, Valid Acc: 29.09%\n"
     ]
    },
    {
     "name": "stderr",
     "output_type": "stream",
     "text": [
      "100%|██████████| 62/62 [01:10<00:00,  1.14s/it]\n"
     ]
    },
    {
     "name": "stdout",
     "output_type": "stream",
     "text": [
      "Epoch [76/100] Train Loss: 66.9258, Train Acc: 38.59% Valid Loss: 2.4613, Valid Acc: 29.09%\n"
     ]
    },
    {
     "name": "stderr",
     "output_type": "stream",
     "text": [
      "100%|██████████| 62/62 [01:08<00:00,  1.10s/it]\n"
     ]
    },
    {
     "name": "stdout",
     "output_type": "stream",
     "text": [
      "Epoch [77/100] Train Loss: 66.6225, Train Acc: 38.59% Valid Loss: 2.4476, Valid Acc: 28.18%\n"
     ]
    },
    {
     "name": "stderr",
     "output_type": "stream",
     "text": [
      "100%|██████████| 62/62 [01:08<00:00,  1.10s/it]\n"
     ]
    },
    {
     "name": "stdout",
     "output_type": "stream",
     "text": [
      "Epoch [78/100] Train Loss: 66.1547, Train Acc: 38.33% Valid Loss: 2.4707, Valid Acc: 27.27%\n"
     ]
    },
    {
     "name": "stderr",
     "output_type": "stream",
     "text": [
      "100%|██████████| 62/62 [01:15<00:00,  1.21s/it]\n"
     ]
    },
    {
     "name": "stdout",
     "output_type": "stream",
     "text": [
      "Epoch [79/100] Train Loss: 67.9344, Train Acc: 36.46% Valid Loss: 2.4367, Valid Acc: 29.09%\n"
     ]
    },
    {
     "name": "stderr",
     "output_type": "stream",
     "text": [
      "100%|██████████| 62/62 [01:09<00:00,  1.12s/it]\n"
     ]
    },
    {
     "name": "stdout",
     "output_type": "stream",
     "text": [
      "Epoch [80/100] Train Loss: 66.7433, Train Acc: 36.92% Valid Loss: 2.4323, Valid Acc: 30.91%\n"
     ]
    },
    {
     "name": "stderr",
     "output_type": "stream",
     "text": [
      "100%|██████████| 62/62 [01:32<00:00,  1.50s/it]\n"
     ]
    },
    {
     "name": "stdout",
     "output_type": "stream",
     "text": [
      "Epoch [81/100] Train Loss: 67.6539, Train Acc: 36.06% Valid Loss: 2.4242, Valid Acc: 30.91%\n"
     ]
    },
    {
     "name": "stderr",
     "output_type": "stream",
     "text": [
      "100%|██████████| 62/62 [01:00<00:00,  1.02it/s]\n"
     ]
    },
    {
     "name": "stdout",
     "output_type": "stream",
     "text": [
      "Epoch [82/100] Train Loss: 65.8677, Train Acc: 38.89% Valid Loss: 2.4502, Valid Acc: 30.00%\n"
     ]
    },
    {
     "name": "stderr",
     "output_type": "stream",
     "text": [
      "100%|██████████| 62/62 [00:58<00:00,  1.06it/s]\n"
     ]
    },
    {
     "name": "stdout",
     "output_type": "stream",
     "text": [
      "Epoch [83/100] Train Loss: 65.0766, Train Acc: 38.69% Valid Loss: 2.4353, Valid Acc: 32.73%\n"
     ]
    },
    {
     "name": "stderr",
     "output_type": "stream",
     "text": [
      "100%|██████████| 62/62 [01:00<00:00,  1.03it/s]\n"
     ]
    },
    {
     "name": "stdout",
     "output_type": "stream",
     "text": [
      "Epoch [84/100] Train Loss: 65.3356, Train Acc: 37.37% Valid Loss: 2.4103, Valid Acc: 33.64%\n"
     ]
    },
    {
     "name": "stderr",
     "output_type": "stream",
     "text": [
      "100%|██████████| 62/62 [00:45<00:00,  1.36it/s]\n"
     ]
    },
    {
     "name": "stdout",
     "output_type": "stream",
     "text": [
      "Epoch [85/100] Train Loss: 65.3393, Train Acc: 38.28% Valid Loss: 2.4044, Valid Acc: 31.82%\n"
     ]
    },
    {
     "name": "stderr",
     "output_type": "stream",
     "text": [
      "100%|██████████| 62/62 [00:37<00:00,  1.68it/s]\n"
     ]
    },
    {
     "name": "stdout",
     "output_type": "stream",
     "text": [
      "Epoch [86/100] Train Loss: 64.5140, Train Acc: 39.55% Valid Loss: 2.4695, Valid Acc: 31.82%\n"
     ]
    },
    {
     "name": "stderr",
     "output_type": "stream",
     "text": [
      "100%|██████████| 62/62 [00:41<00:00,  1.48it/s]\n"
     ]
    },
    {
     "name": "stdout",
     "output_type": "stream",
     "text": [
      "Epoch [87/100] Train Loss: 64.0010, Train Acc: 40.51% Valid Loss: 2.4423, Valid Acc: 30.91%\n"
     ]
    },
    {
     "name": "stderr",
     "output_type": "stream",
     "text": [
      "100%|██████████| 62/62 [00:40<00:00,  1.52it/s]\n"
     ]
    },
    {
     "name": "stdout",
     "output_type": "stream",
     "text": [
      "Epoch [88/100] Train Loss: 62.5691, Train Acc: 40.56% Valid Loss: 2.4381, Valid Acc: 30.91%\n"
     ]
    },
    {
     "name": "stderr",
     "output_type": "stream",
     "text": [
      "100%|██████████| 62/62 [00:58<00:00,  1.06it/s]\n"
     ]
    },
    {
     "name": "stdout",
     "output_type": "stream",
     "text": [
      "Epoch [89/100] Train Loss: 63.8809, Train Acc: 40.10% Valid Loss: 2.4307, Valid Acc: 31.82%\n"
     ]
    },
    {
     "name": "stderr",
     "output_type": "stream",
     "text": [
      "100%|██████████| 62/62 [00:29<00:00,  2.07it/s]\n"
     ]
    },
    {
     "name": "stdout",
     "output_type": "stream",
     "text": [
      "Epoch [90/100] Train Loss: 64.2055, Train Acc: 39.34% Valid Loss: 2.4520, Valid Acc: 32.73%\n"
     ]
    },
    {
     "name": "stderr",
     "output_type": "stream",
     "text": [
      "100%|██████████| 62/62 [00:30<00:00,  2.01it/s]\n"
     ]
    },
    {
     "name": "stdout",
     "output_type": "stream",
     "text": [
      "Epoch [91/100] Train Loss: 63.3126, Train Acc: 40.66% Valid Loss: 2.4699, Valid Acc: 28.18%\n"
     ]
    },
    {
     "name": "stderr",
     "output_type": "stream",
     "text": [
      "100%|██████████| 62/62 [00:33<00:00,  1.86it/s]\n"
     ]
    },
    {
     "name": "stdout",
     "output_type": "stream",
     "text": [
      "Epoch [92/100] Train Loss: 62.7937, Train Acc: 42.12% Valid Loss: 2.4532, Valid Acc: 30.00%\n"
     ]
    },
    {
     "name": "stderr",
     "output_type": "stream",
     "text": [
      "100%|██████████| 62/62 [00:26<00:00,  2.31it/s]\n"
     ]
    },
    {
     "name": "stdout",
     "output_type": "stream",
     "text": [
      "Epoch [93/100] Train Loss: 63.2911, Train Acc: 38.99% Valid Loss: 2.4474, Valid Acc: 31.82%\n"
     ]
    },
    {
     "name": "stderr",
     "output_type": "stream",
     "text": [
      "100%|██████████| 62/62 [00:27<00:00,  2.25it/s]\n"
     ]
    },
    {
     "name": "stdout",
     "output_type": "stream",
     "text": [
      "Epoch [94/100] Train Loss: 63.3060, Train Acc: 40.66% Valid Loss: 2.4508, Valid Acc: 31.82%\n"
     ]
    },
    {
     "name": "stderr",
     "output_type": "stream",
     "text": [
      "100%|██████████| 62/62 [00:27<00:00,  2.23it/s]\n"
     ]
    },
    {
     "name": "stdout",
     "output_type": "stream",
     "text": [
      "Epoch [95/100] Train Loss: 63.5852, Train Acc: 40.45% Valid Loss: 2.4250, Valid Acc: 32.73%\n"
     ]
    },
    {
     "name": "stderr",
     "output_type": "stream",
     "text": [
      "100%|██████████| 62/62 [00:27<00:00,  2.30it/s]\n"
     ]
    },
    {
     "name": "stdout",
     "output_type": "stream",
     "text": [
      "Epoch [96/100] Train Loss: 64.4820, Train Acc: 38.23% Valid Loss: 2.4738, Valid Acc: 29.09%\n"
     ]
    },
    {
     "name": "stderr",
     "output_type": "stream",
     "text": [
      "100%|██████████| 62/62 [00:27<00:00,  2.24it/s]\n"
     ]
    },
    {
     "name": "stdout",
     "output_type": "stream",
     "text": [
      "Epoch [97/100] Train Loss: 63.5141, Train Acc: 40.30% Valid Loss: 2.4651, Valid Acc: 30.00%\n"
     ]
    },
    {
     "name": "stderr",
     "output_type": "stream",
     "text": [
      "100%|██████████| 62/62 [00:27<00:00,  2.25it/s]\n"
     ]
    },
    {
     "name": "stdout",
     "output_type": "stream",
     "text": [
      "Epoch [98/100] Train Loss: 63.8978, Train Acc: 39.90% Valid Loss: 2.4881, Valid Acc: 30.00%\n"
     ]
    },
    {
     "name": "stderr",
     "output_type": "stream",
     "text": [
      "100%|██████████| 62/62 [00:27<00:00,  2.24it/s]\n"
     ]
    },
    {
     "name": "stdout",
     "output_type": "stream",
     "text": [
      "Epoch [99/100] Train Loss: 62.4518, Train Acc: 41.92% Valid Loss: 2.4291, Valid Acc: 30.00%\n"
     ]
    },
    {
     "name": "stderr",
     "output_type": "stream",
     "text": [
      "100%|██████████| 62/62 [00:27<00:00,  2.25it/s]\n"
     ]
    },
    {
     "name": "stdout",
     "output_type": "stream",
     "text": [
      "Epoch [100/100] Train Loss: 63.3214, Train Acc: 39.49% Valid Loss: 2.4550, Valid Acc: 32.73%\n"
     ]
    }
   ],
   "source": [
    "model_manager.train(train_part, valid_part)"
   ]
  },
  {
   "cell_type": "code",
   "execution_count": null,
   "metadata": {},
   "outputs": [],
   "source": []
  }
 ],
 "metadata": {
  "kernelspec": {
   "display_name": "dl",
   "language": "python",
   "name": "python3"
  },
  "language_info": {
   "codemirror_mode": {
    "name": "ipython",
    "version": 3
   },
   "file_extension": ".py",
   "mimetype": "text/x-python",
   "name": "python",
   "nbconvert_exporter": "python",
   "pygments_lexer": "ipython3",
   "version": "3.12.7"
  }
 },
 "nbformat": 4,
 "nbformat_minor": 2
}
